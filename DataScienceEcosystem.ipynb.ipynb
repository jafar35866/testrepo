{
 "cells": [
  {
   "cell_type": "markdown",
   "id": "4e56070d-0669-4184-a52b-4c26bd0de874",
   "metadata": {},
   "source": [
    "# Data Science Tools and Ecosystem"
   ]
  },
  {
   "cell_type": "markdown",
   "id": "7d8165f5-e4d0-4403-9759-a32686a697ec",
   "metadata": {},
   "source": [
    "## In this notebook, Data Science Tools and Ecosystem are summarized.\n"
   ]
  },
  {
   "cell_type": "markdown",
   "id": "7581c6bd-a940-4070-b6c3-5115829d91e8",
   "metadata": {},
   "source": [
    "### Some of the popular languages that Data Scientists use are:\n",
    "1. R\n",
    "2. Python\n",
    "3. Java"
   ]
  },
  {
   "cell_type": "markdown",
   "id": "57a70361-46e5-4f08-92cc-d5894fe6e394",
   "metadata": {},
   "source": [
    "### Some of the commonly used libraries used by Data Scientists include:\n",
    "1. numpy\n",
    "2. panda\n",
    "3. pytorch"
   ]
  },
  {
   "cell_type": "markdown",
   "id": "f9ac39da-2022-46e3-a505-b915f99cdf0e",
   "metadata": {},
   "source": [
    "|Data Science Tools|\n",
    "|------------|\n",
    "|Apache Spark|\n",
    "|Tableau|\n",
    "|Jupyter|\n"
   ]
  },
  {
   "cell_type": "markdown",
   "id": "eb1d9869-ae88-4548-890f-e87629bcf43f",
   "metadata": {},
   "source": [
    "### Below are a few examples of evaluating arithmetic expressions in Python"
   ]
  },
  {
   "cell_type": "code",
   "execution_count": 2,
   "id": "56864541-cd9b-48f4-aa4f-364dcb831896",
   "metadata": {},
   "outputs": [
    {
     "data": {
      "text/plain": [
       "17"
      ]
     },
     "execution_count": 2,
     "metadata": {},
     "output_type": "execute_result"
    }
   ],
   "source": [
    "# This a simple arithmetic expression to mutiply then add integers\n",
    "(3*4)+5\n"
   ]
  },
  {
   "cell_type": "code",
   "execution_count": 3,
   "id": "6aae931e-c976-4a5f-9820-db1841012d1b",
   "metadata": {},
   "outputs": [
    {
     "data": {
      "text/plain": [
       "3.3333333333333335"
      ]
     },
     "execution_count": 3,
     "metadata": {},
     "output_type": "execute_result"
    }
   ],
   "source": [
    "# This will convert 200 minutes to hours by diving by 60\n",
    "\n",
    "200 / 60"
   ]
  },
  {
   "cell_type": "markdown",
   "id": "a095ea92-b60c-4492-96b3-3e60fb83cd24",
   "metadata": {},
   "source": [
    "__Objectives:__ \n",
    "- SQL\n",
    "- Ruby\n",
    "- R"
   ]
  },
  {
   "cell_type": "markdown",
   "id": "a63311d6-161f-456f-b5ed-a178b6353c26",
   "metadata": {},
   "source": [
    "## Author : Jaafar Yousef"
   ]
  },
  {
   "cell_type": "code",
   "execution_count": null,
   "id": "d2134b09-9024-4528-8056-7dcd3d5aeaae",
   "metadata": {},
   "outputs": [],
   "source": []
  }
 ],
 "metadata": {
  "kernelspec": {
   "display_name": "Python",
   "language": "python",
   "name": "conda-env-python-py"
  },
  "language_info": {
   "codemirror_mode": {
    "name": "ipython",
    "version": 3
   },
   "file_extension": ".py",
   "mimetype": "text/x-python",
   "name": "python",
   "nbconvert_exporter": "python",
   "pygments_lexer": "ipython3",
   "version": "3.7.12"
  }
 },
 "nbformat": 4,
 "nbformat_minor": 5
}
